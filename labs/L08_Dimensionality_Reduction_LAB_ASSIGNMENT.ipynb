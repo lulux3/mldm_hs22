{
  "nbformat": 4,
  "nbformat_minor": 0,
  "metadata": {
    "colab": {
      "private_outputs": true,
      "provenance": [],
      "collapsed_sections": []
    },
    "kernelspec": {
      "name": "python3",
      "display_name": "Python 3"
    },
    "language_info": {
      "name": "python"
    }
  },
  "cells": [
    {
      "cell_type": "code",
      "source": [
        "!pip install openml"
      ],
      "metadata": {
        "id": "mHsOJeSvpzZu"
      },
      "execution_count": null,
      "outputs": []
    },
    {
      "cell_type": "code",
      "execution_count": null,
      "metadata": {
        "id": "QEnOZvlls6_o"
      },
      "outputs": [],
      "source": [
        "%matplotlib inline\n",
        "import matplotlib.pyplot as plt\n",
        "import seaborn as sns\n",
        "import numpy as np\n",
        "import pandas as pd\n",
        "\n",
        "RANDOM_SEED = 0xdeadbeef"
      ]
    },
    {
      "cell_type": "markdown",
      "source": [
        "# Task 1: Warmup - Breast Cancer Classification (3 Points)\n",
        "\n",
        "In this warm-up task, we you will apply what you have learned so far about classification to a dataset of Breast Cancer samples. The dataset has 30 features and the goal is to predict whether a particular example is malignant or benign. In further tasks, we will apply dimensionality reduction techniques to this dataset. The goal of this first task is to establish a baseline that we can compare against."
      ],
      "metadata": {
        "id": "LXrtf5gUsMrF"
      }
    },
    {
      "cell_type": "markdown",
      "source": [
        "In the next cell, we load the data and print out the description of the dataset. You do not have to read it in detail but we suggest you have a quick look at what kind of measurements were taken."
      ],
      "metadata": {
        "id": "NAkbuWcpt9-h"
      }
    },
    {
      "cell_type": "code",
      "source": [
        "from sklearn.datasets import load_breast_cancer\n",
        "\n",
        "data = load_breast_cancer(as_frame=True)\n",
        "X_raw = data.data\n",
        "y = data.target\n",
        "y.replace(0, 'Malignant', inplace=True)\n",
        "y.replace(1, 'Benign', inplace=True)\n",
        "\n",
        "print(data.DESCR)"
      ],
      "metadata": {
        "id": "hPJdhacmveTR"
      },
      "execution_count": null,
      "outputs": []
    },
    {
      "cell_type": "markdown",
      "source": [
        "In the next cell, we split the data in a train and test set. We select $80\\%$ of the data for training and the remaining to test. We also use stratification to make sure that the proportion of malignant and benign samples is the same in both the train and test set."
      ],
      "metadata": {
        "id": "QX8swkgFrfxb"
      }
    },
    {
      "cell_type": "code",
      "source": [
        "from sklearn.model_selection import train_test_split\n",
        "\n",
        "x_train, x_test, y_train, y_test = train_test_split(\n",
        "  X_raw, y,\n",
        "  train_size=.8,  # use 80% for training\n",
        "  shuffle=True,   # randomize the split\n",
        "  random_state=RANDOM_SEED,  # set the random seed, so we always  get the same split \n",
        "  stratify=y,  # stratify, to make sure class proportions are preserved\n",
        ")"
      ],
      "metadata": {
        "id": "YwrquUbTukFm"
      },
      "execution_count": null,
      "outputs": []
    },
    {
      "cell_type": "markdown",
      "source": [
        "# Normalizing the data\n",
        "\n",
        "###  Task 1a. Apply standard (mean, standard deviation) normalization to both the training and the test data. \n",
        "\n",
        "**Remember:** we only compute the the mean and standard deviation on the training set!"
      ],
      "metadata": {
        "id": "X1vFxTqgvsKw"
      }
    },
    {
      "cell_type": "code",
      "source": [
        "mean = x_train.mean()\n",
        "std = x_train.std()\n",
        "\n",
        "x_train_norm = (x_train - mean)/std\n",
        "x_test_norm = (x_test - x_test.mean())/x_test.std()"
      ],
      "metadata": {
        "id": "8uRZtc6oz5Nd"
      },
      "execution_count": null,
      "outputs": []
    },
    {
      "cell_type": "markdown",
      "source": [
        "# What is the performance of a Linear SVM classifier on this data?\n",
        "\n",
        "We are now ready to train our baseline classifier on this data. Since we will compare different classifiers to each other, it is useful to have a single score that we can compare.\n",
        "\n",
        "In the next cell, we provide a helper function to compute the F1 score for 'Malignant' predictions. We will use this function to compare classifiers."
      ],
      "metadata": {
        "id": "4orEjhEtxKjr"
      }
    },
    {
      "cell_type": "code",
      "source": [
        "from sklearn.metrics import f1_score\n",
        "\n",
        "def f1_malignant(y_true: pd.Series, y_pred: pd.Series) -> float:\n",
        "  \"\"\"\n",
        "  Helper function to compute the F1 score for the 'Malignant' class\n",
        "\n",
        "  y_true: a pd.Series object containing the ground truth labes \n",
        "          ('Benign' or 'Malignant'), you will mainly pass 'y_test' here\n",
        "  y_pred: a pd.Series object containing predicted labels, for example the \n",
        "          output of the '.predict' method of a classifier\n",
        "  \"\"\"\n",
        "  return f1_score(\n",
        "      y_true=y_true,\n",
        "      y_pred=y_pred,\n",
        "      pos_label=\"Malignant\",\n",
        "      average=\"binary\",\n",
        "  )"
      ],
      "metadata": {
        "id": "zJvx3NNIxTUJ"
      },
      "execution_count": null,
      "outputs": []
    },
    {
      "cell_type": "markdown",
      "source": [
        "### TASK1b. In the next cell, your task is to train linear SVM classifiers. We set up the loops to search for good values of the hyperparameters `C` and `class_weight` for you.\n",
        "\n",
        "Find the combination that gives the best (i.e. highest) value for `f1_malignant`."
      ],
      "metadata": {
        "id": "kYieT2RK2KXT"
      }
    },
    {
      "cell_type": "code",
      "source": [
        "from sklearn.svm import LinearSVC\n",
        "\n",
        "for c in [.1, 1., 10.]:\n",
        "  for class_weight in [None, \"balanced\"]:\n",
        "    svm = LinearSVC(C=c, class_weight=class_weight)\n",
        "    # fit svm\n",
        "    svm.fit(x_train, y_train)\n",
        "    # compute f1_malignant\n",
        "    y_pred = svm.predict(x_test)\n",
        "    f1score = f1_malignant(y_test, y_pred)\n",
        "    # find the best combination of C and class_weight\n",
        "    print(f\"c:{c} class_weight:{class_weight} f1_score:{f1score}\")"
      ],
      "metadata": {
        "id": "U7KHYOUyIIuM"
      },
      "execution_count": null,
      "outputs": []
    },
    {
      "cell_type": "markdown",
      "source": [
        "Best score: c:1.0 class_weight:None f1_score:0.925"
      ],
      "metadata": {
        "id": "y8gKOXGNXLYf"
      }
    },
    {
      "cell_type": "markdown",
      "source": [
        "## 📢 **HAND-IN** 📢: Enter in **Moodle** whether you solved this task."
      ],
      "metadata": {
        "id": "OV5eiCrXcJJh"
      }
    },
    {
      "cell_type": "markdown",
      "source": [
        "# Task 2: PCA (5 Points)\n",
        "\n",
        "We will now apply Principal Component Analysis (PCA) to our data. At its core, PCA will just map our data into a new coordinate systems in such a way that the variation in the data can be explained with fewer dimensions.\n",
        "\n",
        "Note that in the original data space, the ordering of dimensions is arbitrary. For example, if you measure height and weight of people, there is no reason to prefer the height as first dimension and weight as second, over weight as first and height as second. \n",
        "\n",
        "In the new coordinate system that is computed by PCA, the dimensions are ordered by the amount of data variability they \"explain\". That means that the first dimension (the first \"Principal Component\") will explain more variability than the second, the second more than the third etc.\n",
        "\n",
        "This is the reason we can use PCA for dimensionality reduction. We only have to consider the subset of the first $k$ dimensions to get a good representation of the data.\n"
      ],
      "metadata": {
        "id": "nCKqo8mJ31g0"
      }
    },
    {
      "cell_type": "markdown",
      "source": [
        "### Plotting the original data\n",
        "\n",
        "In the next cells we print the feature names of our dataset and then choose 2 arbitrary dimensions to plot them against each other.\n",
        "\n",
        "You can change the values of the variables `feature1` and `feature2` to plot a different pair of features (dimensions)."
      ],
      "metadata": {
        "id": "sG2wLl2kMELG"
      }
    },
    {
      "cell_type": "code",
      "source": [
        "feature_names = x_train_norm.columns\n",
        "print(feature_names)"
      ],
      "metadata": {
        "id": "qRuTPMZk5525"
      },
      "execution_count": null,
      "outputs": []
    },
    {
      "cell_type": "code",
      "source": [
        "feature1 = \"mean compactness\"\n",
        "feature2 = \"mean texture\"\n",
        "\n",
        "plt.scatter(x_train_norm[feature1], x_train_norm[feature2], c=y_train.map({'Benign': 0, 'Malignant': 1}), s=50)\n",
        "plt.xlabel(feature1)\n",
        "plt.ylabel(feature2)"
      ],
      "metadata": {
        "id": "V7X6Ma-j7Iwe"
      },
      "execution_count": null,
      "outputs": []
    },
    {
      "cell_type": "markdown",
      "source": [
        "### Task 2a. How many Principal Components are needed to get a good representation of our data?\n",
        "\n",
        "In the next cell, we use the `PCA` implementation provided by `sklearn.decomposition`. As usual, this class provides a `.fit` method to learn the PCA coordinate transformation, and a `.transform` method to apply the learned PCA transformation to our data.\n",
        "\n",
        "The `PCA` class takes an optional argument `n_components`. If you know that you want to reduce your data to a fixed number of dimensions `d`, then you can set `n_components=d` and the `.transform` method will only return the first `d` dimensions. \n",
        "\n",
        "In our case, we aim to figure out what a good value for `d` could be, so we do not specify it. In this case the output of `PCA` will have the same number of dimensions as the input, i.e. it will compute all Principal Components. "
      ],
      "metadata": {
        "id": "QWIaJFtsUyb_"
      }
    },
    {
      "cell_type": "code",
      "source": [
        "from sklearn.decomposition import PCA\n",
        "\n",
        "pca = PCA()\n",
        "pca.fit(x_train_norm)\n",
        "\n",
        "x_train_pca = pca.transform(x_train_norm)\n",
        "x_test_pca = pca.transform(x_test_norm)\n",
        "\n",
        "print(\"Number of dimensions before: \", x_train_norm.shape[1])\n",
        "print(\"Number of dimensions after: \", x_train_pca.shape[1])"
      ],
      "metadata": {
        "id": "8N88QiKa6jNW"
      },
      "execution_count": null,
      "outputs": []
    },
    {
      "cell_type": "markdown",
      "source": [
        "In class you have seen that you can select a good number of principal components by looking at the *explained variance* of each component.\n",
        "\n",
        "The `sklearn` implementation of `PCA` stores this information in the fields `.explained_variance_` and `.explained_variance_ratio_`. The first contains the absolute variance and the second the percentage.\n",
        "\n",
        "Below, we plot the percentage of explained variance for each component in *blue* and the cumulative explained variance in *green*.\n",
        "\n",
        "### TASK: Study the resulting plot:\n",
        "* How many principal components should we keep?\n",
        "* Why?"
      ],
      "metadata": {
        "id": "SUdnJ8g1Zroq"
      }
    },
    {
      "cell_type": "code",
      "source": [
        "explained_ratio = pca.explained_variance_ratio_\n",
        "\n",
        "n_components = list(range(1, 31))  # [1, 2, ..., 30]\n",
        "plt.grid(visible=True, which='both')\n",
        "plt.plot(n_components, explained_ratio, marker='o', color='blue')\n",
        "plt.plot(n_components, explained_ratio.cumsum(), marker='', color='green', drawstyle=\"steps-post\")"
      ],
      "metadata": {
        "id": "svufQ5i48t8B"
      },
      "execution_count": null,
      "outputs": []
    },
    {
      "cell_type": "markdown",
      "source": [
        "Around 7 components"
      ],
      "metadata": {
        "id": "RJZJc3idc5J2"
      }
    },
    {
      "cell_type": "markdown",
      "source": [
        "### Task 2b. Plotting Principal Components\n",
        "\n",
        "We can now plot different pairs of principal components. In the cell below you can change the values of `component_1` and `component_2` to see what happens.\n",
        "\n",
        "In particular, compare the plot for `component_1 = 0` and `component_2 = 1` to the one for `component_1 = 13` and `component_2 = 22`.\n",
        "\n",
        "What do you observe?"
      ],
      "metadata": {
        "id": "EuRhOExIdT3O"
      }
    },
    {
      "cell_type": "code",
      "source": [
        "component_1 = 13  # enter here any number between 0..29\n",
        "component_2 = 22\n",
        "\n",
        "plt.scatter(x_train_pca[:, component_1], x_train_pca[:, component_2], c=y_train.map({'Benign': 0, 'Malignant': 1}), s=50)\n",
        "plt.xlabel(f\"Component {component_1}\")\n",
        "plt.ylabel(f\"Component {component_2}\")"
      ],
      "metadata": {
        "id": "jCEqZ-I5dS_e"
      },
      "execution_count": null,
      "outputs": []
    },
    {
      "cell_type": "markdown",
      "source": [
        "![image.png](data:image/png;base64,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)\n",
        "\n",
        "![image.png](data:image/png;base64,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)"
      ],
      "metadata": {
        "id": "soGY6bISd5Py"
      }
    },
    {
      "cell_type": "markdown",
      "source": [],
      "metadata": {
        "id": "eTiBcA_ad_9o"
      }
    },
    {
      "cell_type": "markdown",
      "source": [
        "## 📢 **HAND-IN** 📢: Enter the following in **Moodle**\n",
        "\n",
        "* Task 2a (2 Points): How many principal components should we keep and why?\n",
        "* Task 2b (1 Point): Your observation."
      ],
      "metadata": {
        "id": "hAt2nOVRbfcb"
      }
    },
    {
      "cell_type": "markdown",
      "source": [
        "2a: 7 - cummulative variance would explain at least 95% of the data\n",
        "\n",
        "2b: Less components can be clearly separated but with more components they seem to overlap"
      ],
      "metadata": {
        "id": "yrEw1X1nezon"
      }
    },
    {
      "cell_type": "markdown",
      "source": [
        "### How well can we classify our data if we reduce the number of dimensions?\n",
        "\n",
        "In the cell below, we want to find out how many principal components we need to keep to get the same (or better) performance as our baseline from Task 1.\n",
        "\n",
        "Fill out the missing code below. Remember that we use `f1_malignant` to compare different classifiers. You should use a `LinearSVC` and you do **not** have to set any hyperparameter (`C` or `class_weight`).\n"
      ],
      "metadata": {
        "id": "ylOGxweSeWPX"
      }
    },
    {
      "cell_type": "markdown",
      "source": [
        "\n",
        "### TASK 2c. How many components are needed to get the same or better result than our baseline?"
      ],
      "metadata": {
        "id": "ix5SJX3nbVFa"
      }
    },
    {
      "cell_type": "code",
      "source": [
        "for n_components in range(1, 31):\n",
        "  x_train_reduced = x_train_pca[:, :n_components]  # only use the first n components\n",
        "  x_test_reduced = x_test_pca[:, :n_components]    # only use the first n components\n",
        "\n",
        "  svm = LinearSVC()  # You do not need to change C and class_weight\n",
        "  # fit svm and compute f1_malignant\n",
        "  svm.fit(x_train_reduced, y_train)\n",
        "  y_pred = svm.predict(x_test_reduced)\n",
        "  # how many components result in the best score?\n",
        "  f1score = f1_malignant(y_test, y_pred)\n",
        "  print(f\"n: {n_components} f1_score: {f1score}\")\n"
      ],
      "metadata": {
        "id": "GvkRYhPCFhRf"
      },
      "execution_count": null,
      "outputs": []
    },
    {
      "cell_type": "markdown",
      "source": [
        "## 📢 **HAND-IN** 📢: Enter in **Moodle** whether you solved this task (2c, 2 Points).\n"
      ],
      "metadata": {
        "id": "1v-7BSubhNHZ"
      }
    },
    {
      "cell_type": "markdown",
      "source": [
        "### Task 3: A bigger Dataset (2 Points)\n",
        "\n",
        "In this task, we will repeat the main points from Tasks 1 and 2 but for a dataset with a lot more features (100000).\n",
        "\n",
        "The goal is to classify chemical compounds into \"active\" and \"inactive\", meaning whether they will bind to a certain receptor.\n",
        "\n",
        "Below we load the dataset and we also include the dataset description from the openml.org website."
      ],
      "metadata": {
        "id": "Zkld2tAah1n-"
      }
    },
    {
      "cell_type": "code",
      "source": [
        "import openml\n",
        "data = openml.datasets.get_dataset(dataset_id=4137)\n",
        "X, y, _, _ = data.get_data(target=\"class\")\n",
        "y = y.sparse.to_dense()\n",
        "y.replace(0, 'Inactive', inplace=True)\n",
        "y.replace(1, 'Active', inplace=True)\n",
        "\n",
        "from collections import Counter\n",
        "print(\"Number of features: \", X.shape[1])\n",
        "print(\"Class balance: \", Counter(y))"
      ],
      "metadata": {
        "id": "lHy5Bx9VqCZ2"
      },
      "execution_count": null,
      "outputs": []
    },
    {
      "cell_type": "markdown",
      "source": [
        "### Description from [openml.org](https://https://www.openml.org/search?type=data&sort=runs&status=active&id=4137): \n",
        "\n",
        "DOROTHEA is a drug discovery dataset. Chemical compounds represented by\n",
        "structural molecular features must be classified as active \n",
        "(binding to thrombin) or inactive. \n",
        "This is one of 5 datasets of the NIPS 2003 feature selection challenge.\n",
        "\n",
        "Source:\n",
        "\n",
        "a. Original owners The dataset with which DOROTHEA was created is one of the KDD (Knowledge Discovery in Data Mining) Cup 2001. \n",
        "The original dataset and papers of the winners of the competition are available at: http://www.cs.wisc.edu/~dpage/kddcup2001/. \n",
        "DuPont Pharmaceuticals graciously provided this data set for the KDD Cup 2001 competition.\n",
        "All publications referring to analysis of this data set should acknowledge DuPont Pharmaceuticals Research Laboratories and KDD Cup 2001.\n",
        "\n",
        "b. Donor of database This version of the database was prepared for the NIPS 2003 variable and feature selection benchmark by Isabelle Guyon, 955 Creston Road, Berkeley, CA 94708, USA (isabelle '@' clopinet.com).\n",
        "\n",
        "Data Set Information:\n",
        "\n",
        "Drugs are typically small organic molecules that achieve their desired activity by binding to a target site on a receptor. The first step in the discovery of a new drug is usually to identify and isolate the receptor to which it should bind, followed by testing many small molecules for their ability to bind to the target site. This leaves researchers with the task of determining what separates the active (binding) compounds from the inactive (non-binding) ones. Such a determination can then be used in the design of new compounds that not only bind, but also have all the other properties required for a drug (solubility, oral absorption, lack of side effects, appropriate duration of action, toxicity, etc.). The original data were modified for the purpose of the feature selection challenge. In particular, we added a number of distractor feature called 'probes' having no predictive power. The order of the features and patterns were randomized.\n",
        "\n",
        "DOROTHEA -- Positive ex. -- Negative ex. -- Total Training set -- 78 -- 722 -- 800 Validation set -- 34 -- 316 -- 350 Test set -- 78 -- 722 -- 800 All -- 190 -- 1760 -- 1950\n",
        "\n",
        "We mapped Active compounds to the target value +1 (positive examples) and Inactive compounds to the target value –1 (negative examples).\n",
        "\n",
        "Number of variables/features/attributes: Real: 50000 Probes: 50000 Total: 100000"
      ],
      "metadata": {
        "id": "jiLAvCXPx-Kj"
      }
    },
    {
      "cell_type": "markdown",
      "source": [
        "### Train / Test Split"
      ],
      "metadata": {
        "id": "Si5QNHc0zu_Y"
      }
    },
    {
      "cell_type": "code",
      "source": [
        "x_train, x_test, y_train, y_test = train_test_split(\n",
        "    X, y,\n",
        "    train_size=.8,\n",
        "    shuffle=True,\n",
        "    random_state=RANDOM_SEED,\n",
        "    stratify=y,\n",
        ")"
      ],
      "metadata": {
        "id": "o2TwkJ1-jPcx"
      },
      "execution_count": null,
      "outputs": []
    },
    {
      "cell_type": "markdown",
      "source": [
        "### Performance Metric\n",
        "\n",
        "The goal of the dataset is to accurately determine whether a compound is \"active\". Therefore we define the F1 score for the \"Active\" class as our target measure to assess the preformance of a classifier."
      ],
      "metadata": {
        "id": "AL-A1Ctxz56c"
      }
    },
    {
      "cell_type": "code",
      "source": [
        "def f1_active(y_true: pd.Series, y_pred: pd.Series) -> float:\n",
        "  \"\"\"\n",
        "  Helper function to compute the F1 score for the 'Active' class\n",
        "\n",
        "  y_true: a pd.Series object containing the ground truth labes \n",
        "          ('Inactive' or 'Active'), you will mainly pass 'y_test' here\n",
        "  y_pred: a pd.Series object containing predicted labels, for example the \n",
        "          output of the '.predict' method of a classifier\n",
        "  \"\"\"\n",
        "  return f1_score(\n",
        "      y_true=y_true,\n",
        "      y_pred=y_pred,\n",
        "      pos_label=\"Active\",\n",
        "      average=\"binary\",\n",
        "  )"
      ],
      "metadata": {
        "id": "Vo3t_w1rsvnh"
      },
      "execution_count": null,
      "outputs": []
    },
    {
      "cell_type": "markdown",
      "source": [
        "### Baseline Classifier"
      ],
      "metadata": {
        "id": "n0ueVs5t0M7j"
      }
    },
    {
      "cell_type": "code",
      "source": [
        "baseline_clf = LinearSVC(class_weight='balanced')  # use class_weight=\"balanced\" since our dataset has very high label inbalance\n",
        "baseline_clf.fit(x_train, y_train)\n",
        "baseline_predictions = baseline_clf.predict(x_test)\n",
        "\n",
        "f1_baseline = f1_active(y_test, baseline_predictions)\n",
        "\n",
        "print(\"Baseline F1 (Active): \", f1_baseline)"
      ],
      "metadata": {
        "id": "yeciw7sHv1uO"
      },
      "execution_count": null,
      "outputs": []
    },
    {
      "cell_type": "markdown",
      "source": [
        "### Truncated SVD\n",
        "\n",
        "Our dataset is very sparse. This means that a majority of the entries in our feature matrix are 0. In such cases it is wasteful to explicitely store those 0 values and instead more efficient representations are used (a naive one would for example store the row and column indices and the associated value for each non-zero entry).\n",
        "\n",
        "Unfortunately, the `sklearn` implementation of `PCA` does not support sparse matrices and converting our data to a dense representation can lead to RAM issues. Therefore, we use a \"cousin\" of PCA named `TruncatedSVD` that can handle sparse data. The two algorithms work almost the same way and we will use it interchangeably here.\n",
        "\n",
        "**Warning:** this can take a few minutes to compute."
      ],
      "metadata": {
        "id": "IU6MN1Wt0ppZ"
      }
    },
    {
      "cell_type": "code",
      "source": [
        "from sklearn.decomposition import TruncatedSVD\n",
        "\n",
        "tsvd = TruncatedSVD(n_components=2000)\n",
        "tsvd.fit(x_train)\n",
        "\n",
        "x_train_pca = tsvd.transform(x_train)\n",
        "x_test_pca = tsvd.transform(x_test)"
      ],
      "metadata": {
        "id": "08HzT4KHp3mk"
      },
      "execution_count": null,
      "outputs": []
    },
    {
      "cell_type": "markdown",
      "source": [
        "### Visualize Variances Explained for each Component\n",
        "\n",
        "Here we plot again the variance explained by each component and the cumulative explained variance. We limit ourselves to the first 200 components for this plot."
      ],
      "metadata": {
        "id": "A6ZKbTRR11Kh"
      }
    },
    {
      "cell_type": "code",
      "source": [
        "explained_ratio = tsvd.explained_variance_ratio_\n",
        "\n",
        "plt.figure(figsize=(10, 10))\n",
        "plt.plot(np.arange(1, 201), explained_ratio[:200], marker='o', color='blue')\n",
        "plt.plot(np.arange(1, 201), explained_ratio.cumsum()[:200], marker='', color='green', drawstyle=\"steps-post\")"
      ],
      "metadata": {
        "id": "dRBRzkZfyZii"
      },
      "execution_count": null,
      "outputs": []
    },
    {
      "cell_type": "markdown",
      "source": [
        "### What is the number of components we should keep for classification?"
      ],
      "metadata": {
        "id": "YOWisY0C7r7K"
      }
    },
    {
      "cell_type": "code",
      "source": [
        "for n_components in [10, 25, 50, 100, 200]:\n",
        "  x_train_reduced = x_train_pca[:, :n_components]\n",
        "  x_test_reduced = x_test_pca[:, :n_components]\n",
        "  svm = LinearSVC(class_weight=\"balanced\", max_iter=100000)  # we increase the number of optimization steps to make sure the SVM converges\n",
        "  svm.fit(x_train_reduced, y_train)\n",
        "  f1 = f1_active(y_test, svm.predict(x_test_reduced))\n",
        "  print(n_components, f1)"
      ],
      "metadata": {
        "id": "C1NEKmQQ3N_W"
      },
      "execution_count": null,
      "outputs": []
    },
    {
      "cell_type": "markdown",
      "source": [
        "### Task 3a. Runtime Considerations\n",
        "\n",
        "You have just seen that by using dimensionality reduction, we can drastically improve the classification performance.\n",
        "\n",
        "Another consideration is the runtime behaviour. By reducing the number of dimensions used for training we can reduce the training time by an order of magnitude.\n",
        "\n",
        "An easy way to measure the time it takes to execute a statement, we can use the macro `%timeit` built into IPython shells and notebooks. The macro will execute the statement a number of times and report the average time to execute the statement."
      ],
      "metadata": {
        "id": "6ooiN1TSq1w7"
      }
    },
    {
      "cell_type": "code",
      "source": [
        "svm = LinearSVC(class_weight=\"balanced\", max_iter=100000)"
      ],
      "metadata": {
        "id": "aurJYRXwdC6z"
      },
      "execution_count": null,
      "outputs": []
    },
    {
      "cell_type": "markdown",
      "source": [
        "Below we use `%timeit` to measure how long it takes to fit an SVM on all dimensions."
      ],
      "metadata": {
        "id": "XsPjbewZshaY"
      }
    },
    {
      "cell_type": "code",
      "source": [
        "%timeit svm.fit(x_train, y_train)"
      ],
      "metadata": {
        "id": "DJH-qtVzdHaK"
      },
      "execution_count": null,
      "outputs": []
    },
    {
      "cell_type": "markdown",
      "source": [
        "### Task: measure the time it takes to fit an SVM on dimensionality reduced data\n",
        "\n",
        "You can change `n_components` to change the number of dimensions used. You can reuse the `svm` variable instantiated above."
      ],
      "metadata": {
        "id": "2bqZKfn5sxKv"
      }
    },
    {
      "cell_type": "code",
      "source": [
        "n_components = 200\n",
        "x_train_reduced = x_train_pca[:, :n_components]\n",
        "%timeit svm.fit(x_train_reduced, y_train)\n",
        "# use %timeit to measure how long it takes to fit the svm on x_train_reduced"
      ],
      "metadata": {
        "id": "ppkMgvNCdUwc"
      },
      "execution_count": null,
      "outputs": []
    },
    {
      "cell_type": "markdown",
      "source": [
        "20: 1.57 ms ± 419 µs per loop (mean ± std. dev. of 7 runs, 100 loops each)\n",
        "\n",
        "200: 1.87 ms ± 205 µs per loop (mean ± std. dev. of 7 runs, 100 loops each)"
      ],
      "metadata": {
        "id": "KVJAsJlfh8py"
      }
    },
    {
      "cell_type": "markdown",
      "source": [
        "## 📢 **HAND-IN** 📢: Enter the following in **Moodle**\n",
        "\n",
        "* The average runtime for `n_components=20`\n",
        "* The average runtime for `n_components=200`"
      ],
      "metadata": {
        "id": "4YC0Sn4ht-HD"
      }
    }
  ]
}